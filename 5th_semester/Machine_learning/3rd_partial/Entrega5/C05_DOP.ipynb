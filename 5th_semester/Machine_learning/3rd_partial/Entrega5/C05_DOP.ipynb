{
  "nbformat": 4,
  "nbformat_minor": 0,
  "metadata": {
    "colab": {
      "name": "C05_WWWW.ipynb",
      "provenance": [],
      "collapsed_sections": []
    },
    "kernelspec": {
      "name": "python3",
      "display_name": "Python 3"
    }
  },
  "cells": [
    {
      "cell_type": "code",
      "metadata": {
        "id": "Gu-9G0IBzujL"
      },
      "source": [
        "import pandas as pd\n",
        "import numpy as np\n",
        "import sklearn.model_selection \n",
        "import sklearn.linear_model\n",
        "import sklearn as sk\n",
        "import plotly.graph_objects as go\n",
        "from rpy2.robjects import r\n",
        "from rpy2.robjects.packages import importr\n",
        "import rpy2.robjects.packages as rpackages\n",
        "from sklearn.utils import resample"
      ],
      "execution_count": 22,
      "outputs": []
    },
    {
      "cell_type": "code",
      "metadata": {
        "id": "nDlZCUyrvUHH"
      },
      "source": [
        "# reading auto dataset | declaring feature vectors and labels. \n",
        "dataset = pd.read_csv(\"./Auto.csv\")\n",
        "x = dataset.iloc[:,3].to_numpy() # horspower\n",
        "y = dataset.iloc[:,0].to_numpy() # mpg\n",
        "\n",
        "# deleting observations where x_i == ?  | parsing to float\n",
        "indices_to_delete = [i for i,el in enumerate(x) if el == \"?\"] \n",
        "x = np.delete(x,indices_to_delete)\n",
        "y = np.delete(y,indices_to_delete)\n",
        "x = x.astype(np.float)\n",
        "y = y.astype(np.float)\n"
      ],
      "execution_count": 23,
      "outputs": []
    },
    {
      "cell_type": "markdown",
      "metadata": {
        "id": "ara1Rr_AXSUU"
      },
      "source": [
        "2.1. Realizar por completo la Actividad 1 pero ahora utilizando el lenguaje de programación Python.\n",
        "Muestre imágenes de la respuesta en consola y redacte sus observaciones y conclusiones acerca de\n",
        "cada ejercicio, así como de las gráficas obtenidas (colocar las imágenes en su reporte)."
      ]
    },
    {
      "cell_type": "code",
      "metadata": {
        "id": "iyBE4U0il01r",
        "outputId": "c3501063-67eb-4633-9697-8f6b0981ebe3",
        "colab": {
          "base_uri": "https://localhost:8080/"
        }
      },
      "source": [
        "# splitting observations in half\n",
        "x_train, x_test, y_train, y_test = sk.model_selection.train_test_split(x, y, test_size=0.5, random_state=1)\n",
        "\n",
        "# polynomial lambda model -> (x^i)*coef_i + (x^i-1)*coef_i-1 + ... + bias\n",
        "model = lambda x,coefs: sum([(x**i)*coef for i,coef in enumerate(reversed(coefs[0:-1]),start=1)])+coefs[-1]\n",
        "\n",
        "# coeficient array and mse array \n",
        "coef_array = list()\n",
        "mse_array = list()\n",
        "\n",
        "for deg in range(1,4):\n",
        "  # getting the coeficients for the model with a degree equal to 'i'\n",
        "  coef_i = np.polyfit(x=x_train,y=y_train,deg=deg)\n",
        "  # computing mse \n",
        "  predict_i = model(x_train,coef_i)\n",
        "  mse_i = np.mean((y_train - predict_i)**2)\n",
        "  # appending coef and mse\n",
        "  coef_array.append(coef_i)\n",
        "  mse_array.append(mse_i)\n",
        "\n",
        "print(mse_array)"
      ],
      "execution_count": 24,
      "outputs": [
        {
          "output_type": "stream",
          "text": [
            "[23.172322563688436, 19.450442202363618, 19.444359249527423]\n"
          ],
          "name": "stdout"
        }
      ]
    },
    {
      "cell_type": "code",
      "metadata": {
        "id": "mY_SaGjzvraw",
        "outputId": "17f05715-ea66-4393-ddca-ed2bcf9eee1c",
        "colab": {
          "base_uri": "https://localhost:8080/"
        }
      },
      "source": [
        "# splitting observations in half\n",
        "x_train, x_test, y_train, y_test = sk.model_selection.train_test_split(x, y, test_size=0.5, random_state=2)\n",
        "\n",
        "# polynomial lambda model -> (x^i)*coef_i + (x^i-1)*coef_i-1 + ... + bias\n",
        "model = lambda x,coefs: sum([(x**i)*coef for i,coef in enumerate(reversed(coefs[0:-1]),start=1)])+coefs[-1]\n",
        "\n",
        "# coeficient array and mse array \n",
        "coef_array = list()\n",
        "mse_array = list()\n",
        "\n",
        "for deg in range(1,4):\n",
        "  # getting the coeficients for the model with a degree equal to 'i'\n",
        "  coef_i = np.polyfit(x=x_train,y=y_train,deg=deg)\n",
        "  # computing mse \n",
        "  predict_i = model(x_train,coef_i)\n",
        "  mse_i = np.mean((y_train - predict_i)**2)\n",
        "  # appending coef and mse\n",
        "  coef_array.append(coef_i)\n",
        "  mse_array.append(mse_i)\n",
        "\n",
        "print(mse_array)"
      ],
      "execution_count": 25,
      "outputs": [
        {
          "output_type": "stream",
          "text": [
            "[24.663732413967836, 19.515744461302223, 19.5135796153207]\n"
          ],
          "name": "stdout"
        }
      ]
    },
    {
      "cell_type": "markdown",
      "metadata": {
        "id": "rWXR8njRXcMK"
      },
      "source": [
        "2.2. Realizar por completo la Actividad 2 pero ahora utilizando el lenguaje de programación Python.\n",
        "Muestre imágenes de la respuesta en consola y redacte sus observaciones y conclusiones acerca de\n",
        "cada ejercicio, así como de las gráficas obtenidas (colocar las imágenes en su reporte)."
      ]
    },
    {
      "cell_type": "code",
      "metadata": {
        "id": "816OYPKITVMP",
        "outputId": "e81c6d36-c5f7-4878-da07-8af9bc26a18b",
        "colab": {
          "base_uri": "https://localhost:8080/"
        }
      },
      "source": [
        "# fitting liner model for Auto\n",
        "model = sk.linear_model.LinearRegression()\n",
        "model.fit(x.reshape(-1,1),y)\n",
        "print(\"INTERCEPT:\",model.intercept_,\"HORSEPOWER:\",model.coef_)"
      ],
      "execution_count": 26,
      "outputs": [
        {
          "output_type": "stream",
          "text": [
            "INTERCEPT: 39.93586102117047 HORSEPOWER: [-0.15784473]\n"
          ],
          "name": "stdout"
        }
      ]
    },
    {
      "cell_type": "code",
      "metadata": {
        "id": "Ug-FQzfTmvVz",
        "outputId": "429f0387-7ff1-4463-dcc7-c2517ff31410",
        "colab": {
          "base_uri": "https://localhost:8080/"
        }
      },
      "source": [
        "# KFolds tien\n",
        "#folds = sk.model_selection.KFold(n_splits = len(y), shuffle = True, random_state = 100)\n",
        "#folds = sk.model_selection.LeaveOneOut().get_n_splits(x)\n",
        "#scores = sk.model_selection.cross_val_score(model, x.reshape(-1,1), y, cv=folds)\n",
        "#print(scores)\n",
        "boot = importr('boot')\n",
        "r('''\n",
        "Auto <- read.csv('./Auto.csv')\n",
        "''')\n",
        "\n",
        "r('''\n",
        "glm.fit=glm(mpg~horsepower ,data=Auto)\n",
        "cv.err =cv.glm(Auto ,glm.fit)\n",
        "print(cv.err$delta)\n",
        "''')\n",
        "print('')"
      ],
      "execution_count": 27,
      "outputs": [
        {
          "output_type": "stream",
          "text": [
            "[1] 24.23151 24.23114\n",
            "\n"
          ],
          "name": "stdout"
        }
      ]
    },
    {
      "cell_type": "code",
      "metadata": {
        "id": "S4Vu4KC70v_T",
        "outputId": "305a3155-acdc-449c-d378-998eb0eb3494",
        "colab": {
          "base_uri": "https://localhost:8080/"
        }
      },
      "source": [
        "r('''\n",
        "cv.error=rep (0,5)\n",
        "for (i in 1:5){\n",
        " glm.fit=glm(mpg~poly(horsepower ,i),data=Auto)\n",
        " cv.error[i]=cv.glm (Auto ,glm.fit)$delta [1]\n",
        "}\n",
        "print(cv.error)\n",
        "''')\n",
        "print('')\n"
      ],
      "execution_count": 28,
      "outputs": [
        {
          "output_type": "stream",
          "text": [
            "[1] 24.23151 19.24821 19.33498 19.42443 19.03321\n",
            "\n"
          ],
          "name": "stdout"
        }
      ]
    },
    {
      "cell_type": "markdown",
      "metadata": {
        "id": "2RhmDTECXf2E"
      },
      "source": [
        "2.3. Realizar por completo la Actividad 3 pero ahora utilizando el lenguaje de programación Python.\n",
        "Muestre imágenes de la respuesta en consola y redacte sus observaciones y conclusiones acerca de\n",
        "cada ejercicio, así como de las gráficas obtenidas (colocar las imágenes en su reporte)."
      ]
    },
    {
      "cell_type": "code",
      "metadata": {
        "id": "p_eEsoM2XkBD",
        "outputId": "8d9dddda-dc66-488f-d86f-4b78622f3790",
        "colab": {
          "base_uri": "https://localhost:8080/"
        }
      },
      "source": [
        "# create a KFold object with 10 splits \n",
        "folds = sk.model_selection.KFold(n_splits = 10, shuffle = True, random_state = 100)\n",
        "scores = sk.model_selection.cross_val_score(model, x.reshape(-1,1), y, cv=folds)\n",
        "print(scores)"
      ],
      "execution_count": 29,
      "outputs": [
        {
          "output_type": "stream",
          "text": [
            "[0.52614612 0.55012096 0.39495847 0.72501551 0.50305843 0.63314617\n",
            " 0.58899073 0.68289297 0.53810027 0.65321772]\n"
          ],
          "name": "stdout"
        }
      ]
    },
    {
      "cell_type": "markdown",
      "metadata": {
        "id": "iz-tO6Lvj1km"
      },
      "source": [
        "2.4. Realizar por completo la Actividad 4 pero ahora utilizando el lenguaje de programación Python.\n",
        "Muestre imágenes de la respuesta en consola y redacte sus observaciones y conclusiones acerca de\n",
        "cada ejercicio, así como de las gráficas obtenidas (colocar las imágenes en su reporte)."
      ]
    },
    {
      "cell_type": "code",
      "metadata": {
        "id": "gwOZB8yKj2vt",
        "outputId": "03bcfd76-04e6-4b05-e765-8c1787b7031f",
        "colab": {
          "base_uri": "https://localhost:8080/"
        }
      },
      "source": [
        "r('''\n",
        "alpha.fn=function (data ,index){\n",
        " X=data$X [index]\n",
        " Y=data$Y [index]\n",
        " return ((var(Y)-cov (X,Y))/(var(X)+var(Y) -2* cov(X,Y)))\n",
        "}\n",
        "''')\n",
        "print('')"
      ],
      "execution_count": 30,
      "outputs": [
        {
          "output_type": "stream",
          "text": [
            "\n"
          ],
          "name": "stdout"
        }
      ]
    },
    {
      "cell_type": "code",
      "metadata": {
        "id": "pB_e0GhmsTM9",
        "outputId": "e3a02427-fa77-4600-ddc2-f76276448739",
        "colab": {
          "base_uri": "https://localhost:8080/"
        }
      },
      "source": [
        "#PortfolioDataset = pd.read_csv('./Portfolio.csv')\n",
        "r('''\n",
        "Portfolio <- read.csv('./Portfolio.csv')\n",
        "''')\n",
        "r('''\n",
        "print(alpha.fn(Portfolio ,1:100))\n",
        "''')\n",
        "print('')"
      ],
      "execution_count": 31,
      "outputs": [
        {
          "output_type": "stream",
          "text": [
            "[1] 0.5758321\n",
            "\n"
          ],
          "name": "stdout"
        }
      ]
    },
    {
      "cell_type": "code",
      "metadata": {
        "id": "Jhyo1EJ0u_Jk",
        "outputId": "14a3aa7f-8926-4be1-eb69-679abcc4a62b",
        "colab": {
          "base_uri": "https://localhost:8080/"
        }
      },
      "source": [
        "r(''' \n",
        "set.seed(1)\n",
        "print(alpha.fn(Portfolio ,sample (100 ,100 , replace=T)))\n",
        "''')\n",
        "print('')"
      ],
      "execution_count": 32,
      "outputs": [
        {
          "output_type": "stream",
          "text": [
            "[1] 0.7368375\n",
            "\n"
          ],
          "name": "stdout"
        }
      ]
    },
    {
      "cell_type": "code",
      "metadata": {
        "id": "rF3T3tlevP1c",
        "outputId": "a2dd321c-174c-47aa-d7ce-dc897889433a",
        "colab": {
          "base_uri": "https://localhost:8080/"
        }
      },
      "source": [
        "r(''' \n",
        "  print(boot(Portfolio ,alpha.fn,R=1000))\n",
        "''')\n",
        "print('')"
      ],
      "execution_count": 33,
      "outputs": [
        {
          "output_type": "stream",
          "text": [
            "\n",
            "ORDINARY NONPARAMETRIC BOOTSTRAP\n",
            "\n",
            "\n",
            "Call:\n",
            "boot(data = Portfolio, statistic = alpha.fn, R = 1000)\n",
            "\n",
            "\n",
            "Bootstrap Statistics :\n",
            "     original       bias    std. error\n",
            "t1* 0.5758321 -0.001695873  0.09366347\n",
            "\n"
          ],
          "name": "stdout"
        }
      ]
    },
    {
      "cell_type": "code",
      "metadata": {
        "id": "FUyQak7k3FOG",
        "outputId": "1063a1ad-bbb1-4b01-f86e-a52a1785d614",
        "colab": {
          "base_uri": "https://localhost:8080/"
        }
      },
      "source": [
        "r('''\n",
        "Auto <- read.csv('./Auto.csv')\n",
        "''')\n",
        "r(''' \n",
        "  boot.fn=function(data ,index )\n",
        "    return (coef(lm(mpg~horsepower ,data=data ,subset =index)))\n",
        "  print(boot.fn(Auto ,1:392))\n",
        "''')\n",
        "print('')\n"
      ],
      "execution_count": 34,
      "outputs": [
        {
          "output_type": "stream",
          "text": [
            "(Intercept)  horsepower \n",
            " 39.9358610  -0.1578447 \n",
            "\n"
          ],
          "name": "stdout"
        }
      ]
    },
    {
      "cell_type": "code",
      "metadata": {
        "id": "KAT7GRxv3Hgu",
        "outputId": "d0e9da11-a752-4e7a-ed76-1c98ff99c031",
        "colab": {
          "base_uri": "https://localhost:8080/"
        }
      },
      "source": [
        "r(''' \n",
        "  set.seed (1)\n",
        "  print(boot.fn(Auto ,sample (392 ,392 , replace =T)))\n",
        "  print(boot.fn(Auto ,sample (392 ,392 , replace =T)))\n",
        "''')\n",
        "print('')"
      ],
      "execution_count": 35,
      "outputs": [
        {
          "output_type": "stream",
          "text": [
            "(Intercept)  horsepower \n",
            " 40.3404517  -0.1634868 \n",
            "(Intercept)  horsepower \n",
            " 40.1186906  -0.1577063 \n",
            "\n"
          ],
          "name": "stdout"
        }
      ]
    },
    {
      "cell_type": "code",
      "metadata": {
        "id": "xVHOJMII3JI3",
        "outputId": "93121d10-ccaf-4e33-99e0-523a91857ea0",
        "colab": {
          "base_uri": "https://localhost:8080/"
        }
      },
      "source": [
        "r(''' \n",
        "  print(boot(Auto ,boot.fn ,1000))\n",
        "''')\n",
        "print('')"
      ],
      "execution_count": 36,
      "outputs": [
        {
          "output_type": "stream",
          "text": [
            "\n",
            "ORDINARY NONPARAMETRIC BOOTSTRAP\n",
            "\n",
            "\n",
            "Call:\n",
            "boot(data = Auto, statistic = boot.fn, R = 1000)\n",
            "\n",
            "\n",
            "Bootstrap Statistics :\n",
            "      original        bias    std. error\n",
            "t1* 39.9358610  0.0544513229 0.841289790\n",
            "t2* -0.1578447 -0.0006170901 0.007343073\n",
            "\n"
          ],
          "name": "stdout"
        }
      ]
    },
    {
      "cell_type": "code",
      "metadata": {
        "id": "DS5w-ZFM3LDv",
        "outputId": "95e9eb79-0203-4846-8108-36c0ffb8f482",
        "colab": {
          "base_uri": "https://localhost:8080/"
        }
      },
      "source": [
        "r(''' \n",
        "  print(summary (lm(mpg~horsepower ,data=Auto))$coef)\n",
        "''')\n",
        "print('')"
      ],
      "execution_count": 37,
      "outputs": [
        {
          "output_type": "stream",
          "text": [
            "              Estimate  Std. Error   t value      Pr(>|t|)\n",
            "(Intercept) 39.9358610 0.717498656  55.65984 1.220362e-187\n",
            "horsepower  -0.1578447 0.006445501 -24.48914  7.031989e-81\n",
            "\n"
          ],
          "name": "stdout"
        }
      ]
    },
    {
      "cell_type": "code",
      "metadata": {
        "id": "z7Er--Av3M4I",
        "outputId": "a999a1fd-eb78-4ab1-ac6c-f560271ff6b6",
        "colab": {
          "base_uri": "https://localhost:8080/"
        }
      },
      "source": [
        "\n",
        "r(''' \n",
        "  boot.fn=function (data ,index )\n",
        "    coefficients(lm(mpg~horsepower +I( horsepower ^2) ,data=data , subset =index))\n",
        "  set.seed (1)\n",
        "  print(boot(Auto ,boot.fn ,1000))\n",
        "  print(summary (lm(mpg~horsepower +I(horsepower ^2) ,data=Auto))$coef)\n",
        "''')\n",
        "\n",
        "print('')"
      ],
      "execution_count": 38,
      "outputs": [
        {
          "output_type": "stream",
          "text": [
            "\n",
            "ORDINARY NONPARAMETRIC BOOTSTRAP\n",
            "\n",
            "\n",
            "Call:\n",
            "boot(data = Auto, statistic = boot.fn, R = 1000)\n",
            "\n",
            "\n",
            "Bootstrap Statistics :\n",
            "        original        bias     std. error\n",
            "t1* 56.900099702  3.511640e-02 2.0300222526\n",
            "t2* -0.466189630 -7.080834e-04 0.0324241984\n",
            "t3*  0.001230536  2.840324e-06 0.0001172164\n",
            "                    Estimate   Std. Error   t value      Pr(>|t|)\n",
            "(Intercept)     56.900099702 1.8004268063  31.60367 1.740911e-109\n",
            "horsepower      -0.466189630 0.0311246171 -14.97816  2.289429e-40\n",
            "I(horsepower^2)  0.001230536 0.0001220759  10.08009  2.196340e-21\n",
            "\n"
          ],
          "name": "stdout"
        }
      ]
    }
  ]
}