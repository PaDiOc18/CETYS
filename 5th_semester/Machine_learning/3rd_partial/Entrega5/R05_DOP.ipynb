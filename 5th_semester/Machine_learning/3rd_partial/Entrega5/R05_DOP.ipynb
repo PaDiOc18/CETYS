{
  "nbformat": 4,
  "nbformat_minor": 0,
  "metadata": {
    "colab": {
      "name": "R05_WWWW",
      "provenance": [],
      "collapsed_sections": []
    },
    "kernelspec": {
      "name": "ir",
      "display_name": "R"
    }
  },
  "cells": [
    {
      "cell_type": "code",
      "metadata": {
        "id": "vQyKkh6-e3b4",
        "outputId": "7dd077ca-bcfd-4c54-bef2-e06ee39215a2",
        "colab": {
          "base_uri": "https://localhost:8080/"
        }
      },
      "source": [
        "install.packages('ISLR')"
      ],
      "execution_count": null,
      "outputs": [
        {
          "output_type": "stream",
          "text": [
            "Installing package into ‘/usr/local/lib/R/site-library’\n",
            "(as ‘lib’ is unspecified)\n",
            "\n"
          ],
          "name": "stderr"
        }
      ]
    },
    {
      "cell_type": "markdown",
      "metadata": {
        "id": "KweEFR5UxPXZ"
      },
      "source": [
        "1.1. Utilizando el conjunto de datos de automóviles (Auto) y el enfoque del conjunto de validación realice\n",
        "el laboratorio de la sección 5.3.1 del libro “An Introduction to Statistical Learning with Applications in\n",
        "R” de Gareth James, Daniela Witten, Trevor Hastie, and Robert Tibshirani, realice todos los ejercicios\n",
        "y obtenga las tasas de error de conjunto de validación para los modelos con términos lineales,\n",
        "cuadráticos y cúbicos, los cuales deben ser 23.30, 18.90 y 19.26, respectivamente. Redacte sus\n",
        "observaciones y conclusiones acerca de cada ejercicio, así como de las respuestas obtenidas en\n",
        "consola (colocar las imágenes en su reporte)."
      ]
    },
    {
      "cell_type": "code",
      "metadata": {
        "id": "Xdm6JJ0PeSNi"
      },
      "source": [
        "library (ISLR)\n",
        "set.seed (1)\n",
        "train=sample (392 ,196)"
      ],
      "execution_count": null,
      "outputs": []
    },
    {
      "cell_type": "code",
      "metadata": {
        "id": "7jqH9RDDfHvF"
      },
      "source": [
        "lm.fit =lm(mpg~horsepower ,data=Auto ,subset =train )"
      ],
      "execution_count": null,
      "outputs": []
    },
    {
      "cell_type": "code",
      "metadata": {
        "id": "je66an8RfPM3",
        "outputId": "46128ceb-84a0-4fa2-a631-59de07785223",
        "colab": {
          "base_uri": "https://localhost:8080/",
          "height": 243
        }
      },
      "source": [
        "attach (Auto)\n",
        "mean((mpg -predict (lm.fit ,Auto))[-train ]^2)"
      ],
      "execution_count": null,
      "outputs": [
        {
          "output_type": "stream",
          "text": [
            "The following objects are masked from Auto (pos = 3):\n",
            "\n",
            "    acceleration, cylinders, displacement, horsepower, mpg, name,\n",
            "    origin, weight, year\n",
            "\n",
            "\n",
            "The following objects are masked from Auto (pos = 4):\n",
            "\n",
            "    acceleration, cylinders, displacement, horsepower, mpg, name,\n",
            "    origin, weight, year\n",
            "\n",
            "\n"
          ],
          "name": "stderr"
        },
        {
          "output_type": "display_data",
          "data": {
            "text/plain": [
              "[1] 23.26601"
            ],
            "text/latex": "23.2660086465003",
            "text/markdown": "23.2660086465003",
            "text/html": [
              "23.2660086465003"
            ]
          },
          "metadata": {
            "tags": []
          }
        }
      ]
    },
    {
      "cell_type": "code",
      "metadata": {
        "id": "tXE2Y3fkfUB7",
        "outputId": "82fc1bbf-620c-4f92-cfbd-4e7db9104e3a",
        "colab": {
          "base_uri": "https://localhost:8080/",
          "height": 50
        }
      },
      "source": [
        "lm.fit2=lm(mpg~poly(horsepower ,2) ,data=Auto ,subset =train )\n",
        "mean((mpg -predict (lm.fit2 ,Auto))[-train ]^2)\n",
        "lm.fit3=lm(mpg~poly(horsepower ,3) ,data=Auto ,subset =train )\n",
        "mean((mpg -predict (lm.fit3 ,Auto))[-train ]^2)"
      ],
      "execution_count": null,
      "outputs": [
        {
          "output_type": "display_data",
          "data": {
            "text/plain": [
              "[1] 18.71646"
            ],
            "text/latex": "18.7164594933828",
            "text/markdown": "18.7164594933828",
            "text/html": [
              "18.7164594933828"
            ]
          },
          "metadata": {
            "tags": []
          }
        },
        {
          "output_type": "display_data",
          "data": {
            "text/plain": [
              "[1] 18.79401"
            ],
            "text/latex": "18.7940067973945",
            "text/markdown": "18.7940067973945",
            "text/html": [
              "18.7940067973945"
            ]
          },
          "metadata": {
            "tags": []
          }
        }
      ]
    },
    {
      "cell_type": "code",
      "metadata": {
        "id": "xHg6bMq0fkbP",
        "outputId": "a300d469-a96a-497c-8a7b-4ce5649f2de9",
        "colab": {
          "base_uri": "https://localhost:8080/",
          "height": 67
        }
      },
      "source": [
        "set.seed (2)\n",
        "train=sample (392 ,196)\n",
        "lm.fit =lm(mpg~horsepower ,subset =train)\n",
        "mean((mpg -predict (lm.fit ,Auto))[-train ]^2)\n",
        "lm.fit2=lm(mpg~poly(horsepower ,2) ,data=Auto ,subset =train )\n",
        "mean((mpg -predict (lm.fit2 ,Auto))[-train ]^2)\n",
        "lm.fit3=lm(mpg~poly(horsepower ,3) ,data=Auto ,subset =train )\n",
        "mean((mpg -predict (lm.fit3 ,Auto))[-train ]^2)"
      ],
      "execution_count": null,
      "outputs": [
        {
          "output_type": "display_data",
          "data": {
            "text/plain": [
              "[1] 25.72651"
            ],
            "text/latex": "25.7265106448139",
            "text/markdown": "25.7265106448139",
            "text/html": [
              "25.7265106448139"
            ]
          },
          "metadata": {
            "tags": []
          }
        },
        {
          "output_type": "display_data",
          "data": {
            "text/plain": [
              "[1] 20.43036"
            ],
            "text/latex": "20.4303642741463",
            "text/markdown": "20.4303642741463",
            "text/html": [
              "20.4303642741463"
            ]
          },
          "metadata": {
            "tags": []
          }
        },
        {
          "output_type": "display_data",
          "data": {
            "text/plain": [
              "[1] 20.38533"
            ],
            "text/latex": "20.3853268638776",
            "text/markdown": "20.3853268638776",
            "text/html": [
              "20.3853268638776"
            ]
          },
          "metadata": {
            "tags": []
          }
        }
      ]
    },
    {
      "cell_type": "markdown",
      "metadata": {
        "id": "qjvNKt_tfyqt"
      },
      "source": [
        "1.2. Utilizando el conjunto de datos de automóviles (Auto) y mediante LOOCV realice el laboratorio de la\n",
        "sección 5.3.2 del libro. Realice los ejercicios y obtenga el estimado de la validación cruzada para el\n",
        "error de prueba, el cual debe ser 24.23. Redacte sus observaciones y conclusiones acerca de cada\n",
        "ejercicio, así como de las respuestas obtenidas en consola (colocar las imágenes en su reporte).\n"
      ]
    },
    {
      "cell_type": "code",
      "metadata": {
        "id": "IFUGubukf4ao",
        "outputId": "fd7e6e98-c23b-4019-adcb-cd8f708470da",
        "colab": {
          "base_uri": "https://localhost:8080/",
          "height": 34
        }
      },
      "source": [
        "glm.fit=glm(mpg~horsepower ,data=Auto)\n",
        "coef(glm.fit)"
      ],
      "execution_count": null,
      "outputs": [
        {
          "output_type": "display_data",
          "data": {
            "text/plain": [
              "(Intercept)  horsepower \n",
              " 39.9358610  -0.1578447 "
            ],
            "text/latex": "\\begin{description*}\n\\item[(Intercept)] 39.9358610211705\n\\item[horsepower] -0.157844733353654\n\\end{description*}\n",
            "text/markdown": "(Intercept)\n:   39.9358610211705horsepower\n:   -0.157844733353654\n\n",
            "text/html": [
              "<style>\n",
              ".dl-inline {width: auto; margin:0; padding: 0}\n",
              ".dl-inline>dt, .dl-inline>dd {float: none; width: auto; display: inline-block}\n",
              ".dl-inline>dt::after {content: \":\\0020\"; padding-right: .5ex}\n",
              ".dl-inline>dt:not(:first-of-type) {padding-left: .5ex}\n",
              "</style><dl class=dl-inline><dt>(Intercept)</dt><dd>39.9358610211705</dd><dt>horsepower</dt><dd>-0.157844733353654</dd></dl>\n"
            ]
          },
          "metadata": {
            "tags": []
          }
        }
      ]
    },
    {
      "cell_type": "code",
      "metadata": {
        "id": "4YQ35czuf-oQ",
        "outputId": "62c9a193-42e0-4822-fb96-6a962e3e1631",
        "colab": {
          "base_uri": "https://localhost:8080/",
          "height": 34
        }
      },
      "source": [
        "lm.fit =lm(mpg~horsepower ,data=Auto)\n",
        "coef(lm.fit)"
      ],
      "execution_count": null,
      "outputs": [
        {
          "output_type": "display_data",
          "data": {
            "text/plain": [
              "(Intercept)  horsepower \n",
              " 39.9358610  -0.1578447 "
            ],
            "text/latex": "\\begin{description*}\n\\item[(Intercept)] 39.9358610211705\n\\item[horsepower] -0.157844733353654\n\\end{description*}\n",
            "text/markdown": "(Intercept)\n:   39.9358610211705horsepower\n:   -0.157844733353654\n\n",
            "text/html": [
              "<style>\n",
              ".dl-inline {width: auto; margin:0; padding: 0}\n",
              ".dl-inline>dt, .dl-inline>dd {float: none; width: auto; display: inline-block}\n",
              ".dl-inline>dt::after {content: \":\\0020\"; padding-right: .5ex}\n",
              ".dl-inline>dt:not(:first-of-type) {padding-left: .5ex}\n",
              "</style><dl class=dl-inline><dt>(Intercept)</dt><dd>39.9358610211705</dd><dt>horsepower</dt><dd>-0.157844733353654</dd></dl>\n"
            ]
          },
          "metadata": {
            "tags": []
          }
        }
      ]
    },
    {
      "cell_type": "code",
      "metadata": {
        "id": "LTQCJB6agFFy",
        "outputId": "231f9802-b86c-4926-a97d-2b15f5dafce4",
        "colab": {
          "base_uri": "https://localhost:8080/",
          "height": 34
        }
      },
      "source": [
        "library (boot)\n",
        "glm.fit=glm(mpg~horsepower ,data=Auto)\n",
        "cv.err =cv.glm(Auto ,glm.fit)\n",
        "cv.err$delta"
      ],
      "execution_count": null,
      "outputs": [
        {
          "output_type": "display_data",
          "data": {
            "text/plain": [
              "[1] 24.23151 24.23114"
            ],
            "text/latex": "\\begin{enumerate*}\n\\item 24.2315135179292\n\\item 24.2311440937561\n\\end{enumerate*}\n",
            "text/markdown": "1. 24.2315135179292\n2. 24.2311440937561\n\n\n",
            "text/html": [
              "<style>\n",
              ".list-inline {list-style: none; margin:0; padding: 0}\n",
              ".list-inline>li {display: inline-block}\n",
              ".list-inline>li:not(:last-child)::after {content: \"\\00b7\"; padding: 0 .5ex}\n",
              "</style>\n",
              "<ol class=list-inline><li>24.2315135179292</li><li>24.2311440937561</li></ol>\n"
            ]
          },
          "metadata": {
            "tags": []
          }
        }
      ]
    },
    {
      "cell_type": "code",
      "metadata": {
        "id": "EohhlTNvgN6p",
        "outputId": "046364d3-88a9-4786-952d-bf078b2cb376",
        "colab": {
          "base_uri": "https://localhost:8080/",
          "height": 34
        }
      },
      "source": [
        "cv.error=rep (0,5)\n",
        "for (i in 1:5){\n",
        " glm.fit=glm(mpg~poly(horsepower ,i),data=Auto)\n",
        " cv.error[i]=cv.glm (Auto ,glm.fit)$delta [1]\n",
        "}\n",
        "cv.error"
      ],
      "execution_count": null,
      "outputs": [
        {
          "output_type": "display_data",
          "data": {
            "text/plain": [
              "[1] 24.23151 19.24821 19.33498 19.42443 19.03321"
            ],
            "text/latex": "\\begin{enumerate*}\n\\item 24.2315135179292\n\\item 19.2482131244897\n\\item 19.3349840640291\n\\item 19.4244303104302\n\\item 19.0332138547041\n\\end{enumerate*}\n",
            "text/markdown": "1. 24.2315135179292\n2. 19.2482131244897\n3. 19.3349840640291\n4. 19.4244303104302\n5. 19.0332138547041\n\n\n",
            "text/html": [
              "<style>\n",
              ".list-inline {list-style: none; margin:0; padding: 0}\n",
              ".list-inline>li {display: inline-block}\n",
              ".list-inline>li:not(:last-child)::after {content: \"\\00b7\"; padding: 0 .5ex}\n",
              "</style>\n",
              "<ol class=list-inline><li>24.2315135179292</li><li>19.2482131244897</li><li>19.3349840640291</li><li>19.4244303104302</li><li>19.0332138547041</li></ol>\n"
            ]
          },
          "metadata": {
            "tags": []
          }
        }
      ]
    },
    {
      "cell_type": "markdown",
      "metadata": {
        "id": "QdkUh9emggSC"
      },
      "source": [
        "1.3. Realice las actividades del laboratorio de la sección 5.3.3 del libro, correspondiente a validación\n",
        "cruzada con k-pliegues. Redacte sus observaciones y conclusiones acerca de cada ejercicio, así como\n",
        "de las respuestas obtenidas en consola (colocar las imágenes en su reporte)."
      ]
    },
    {
      "cell_type": "code",
      "metadata": {
        "id": "kdc2pp_IgjiX",
        "outputId": "73020a23-e79d-41f8-c7b4-9fe4a90b54ea",
        "colab": {
          "base_uri": "https://localhost:8080/",
          "height": 34
        }
      },
      "source": [
        "set.seed (17)\n",
        "cv.error.10= rep (0 ,10)\n",
        "for (i in 1:10) {\n",
        "  glm.fit=glm(mpg~poly(horsepower ,i),data=Auto)\n",
        "  cv.error.10[i]=cv.glm (Auto ,glm.fit ,K=10) $delta [1]\n",
        "  }\n",
        "cv.error.10"
      ],
      "execution_count": null,
      "outputs": [
        {
          "output_type": "display_data",
          "data": {
            "text/plain": [
              " [1] 24.27207 19.26909 19.34805 19.29496 19.03198 18.89781 19.12061 19.14666\n",
              " [9] 18.87013 20.95520"
            ],
            "text/latex": "\\begin{enumerate*}\n\\item 24.2720671232254\n\\item 19.2690928085129\n\\item 19.3480535605547\n\\item 19.2949648229745\n\\item 19.0319790002896\n\\item 18.8978121056401\n\\item 19.1206066690695\n\\item 19.1466631054789\n\\item 18.8701307442148\n\\item 20.9552042280394\n\\end{enumerate*}\n",
            "text/markdown": "1. 24.2720671232254\n2. 19.2690928085129\n3. 19.3480535605547\n4. 19.2949648229745\n5. 19.0319790002896\n6. 18.8978121056401\n7. 19.1206066690695\n8. 19.1466631054789\n9. 18.8701307442148\n10. 20.9552042280394\n\n\n",
            "text/html": [
              "<style>\n",
              ".list-inline {list-style: none; margin:0; padding: 0}\n",
              ".list-inline>li {display: inline-block}\n",
              ".list-inline>li:not(:last-child)::after {content: \"\\00b7\"; padding: 0 .5ex}\n",
              "</style>\n",
              "<ol class=list-inline><li>24.2720671232254</li><li>19.2690928085129</li><li>19.3480535605547</li><li>19.2949648229745</li><li>19.0319790002896</li><li>18.8978121056401</li><li>19.1206066690695</li><li>19.1466631054789</li><li>18.8701307442148</li><li>20.9552042280394</li></ol>\n"
            ]
          },
          "metadata": {
            "tags": []
          }
        }
      ]
    },
    {
      "cell_type": "markdown",
      "metadata": {
        "id": "y7ALhNyIhAR1"
      },
      "source": [
        "1.4. Realice las actividades del laboratorio de la sección 5.3.4 del libro, correspondiente a Bootstrap.\n",
        "Redacte sus observaciones y conclusiones acerca de cada ejercicio, así como de las respuestas\n",
        "obtenidas en consola (colocar las imágenes en su reporte)."
      ]
    },
    {
      "cell_type": "code",
      "metadata": {
        "id": "vHf5ZeZahDZd"
      },
      "source": [
        "alpha.fn=function (data ,index){\n",
        "  X=data$X [index]\n",
        "  Y=data$Y [index]\n",
        "  return ((var(Y)-cov (X,Y))/(var(X)+var(Y) -2* cov(X,Y)))\n",
        "  }"
      ],
      "execution_count": null,
      "outputs": []
    },
    {
      "cell_type": "code",
      "metadata": {
        "id": "arHY0a35hK2V",
        "outputId": "699aa88c-ceb1-4a1d-c80c-af8585ef50b8",
        "colab": {
          "base_uri": "https://localhost:8080/",
          "height": 34
        }
      },
      "source": [
        "alpha.fn(Portfolio ,1:100)"
      ],
      "execution_count": null,
      "outputs": [
        {
          "output_type": "display_data",
          "data": {
            "text/plain": [
              "[1] 0.5758321"
            ],
            "text/latex": "0.57583207459283",
            "text/markdown": "0.57583207459283",
            "text/html": [
              "0.57583207459283"
            ]
          },
          "metadata": {
            "tags": []
          }
        }
      ]
    },
    {
      "cell_type": "code",
      "metadata": {
        "id": "f3ocJ4FZhLwE",
        "outputId": "77583a6e-9802-4455-fd6b-87c0607a30b7",
        "colab": {
          "base_uri": "https://localhost:8080/",
          "height": 34
        }
      },
      "source": [
        "set.seed (1)\n",
        "alpha.fn(Portfolio ,sample (100 ,100 , replace =T))"
      ],
      "execution_count": null,
      "outputs": [
        {
          "output_type": "display_data",
          "data": {
            "text/plain": [
              "[1] 0.7368375"
            ],
            "text/latex": "0.736837501928544",
            "text/markdown": "0.736837501928544",
            "text/html": [
              "0.736837501928544"
            ]
          },
          "metadata": {
            "tags": []
          }
        }
      ]
    },
    {
      "cell_type": "code",
      "metadata": {
        "id": "QRQ55ERLhUBx",
        "outputId": "683554db-699f-4a3c-bf76-7b0e9bc3f82e",
        "colab": {
          "base_uri": "https://localhost:8080/",
          "height": 209
        }
      },
      "source": [
        "boot(Portfolio ,alpha.fn,R=1000)"
      ],
      "execution_count": null,
      "outputs": [
        {
          "output_type": "display_data",
          "data": {
            "text/plain": [
              "\n",
              "ORDINARY NONPARAMETRIC BOOTSTRAP\n",
              "\n",
              "\n",
              "Call:\n",
              "boot(data = Portfolio, statistic = alpha.fn, R = 1000)\n",
              "\n",
              "\n",
              "Bootstrap Statistics :\n",
              "     original       bias    std. error\n",
              "t1* 0.5758321 -0.001695873  0.09366347"
            ]
          },
          "metadata": {
            "tags": []
          }
        }
      ]
    },
    {
      "cell_type": "code",
      "metadata": {
        "id": "9arIa0zfhXtm",
        "outputId": "1d412568-4a31-4018-ab91-9e1c4a120de3",
        "colab": {
          "base_uri": "https://localhost:8080/",
          "height": 34
        }
      },
      "source": [
        "boot.fn=function (data ,index )\n",
        " return (coef(lm(mpg~horsepower ,data=data ,subset =index)))\n",
        "boot.fn(Auto ,1:392)"
      ],
      "execution_count": null,
      "outputs": [
        {
          "output_type": "display_data",
          "data": {
            "text/plain": [
              "(Intercept)  horsepower \n",
              " 39.9358610  -0.1578447 "
            ],
            "text/latex": "\\begin{description*}\n\\item[(Intercept)] 39.9358610211705\n\\item[horsepower] -0.157844733353654\n\\end{description*}\n",
            "text/markdown": "(Intercept)\n:   39.9358610211705horsepower\n:   -0.157844733353654\n\n",
            "text/html": [
              "<style>\n",
              ".dl-inline {width: auto; margin:0; padding: 0}\n",
              ".dl-inline>dt, .dl-inline>dd {float: none; width: auto; display: inline-block}\n",
              ".dl-inline>dt::after {content: \":\\0020\"; padding-right: .5ex}\n",
              ".dl-inline>dt:not(:first-of-type) {padding-left: .5ex}\n",
              "</style><dl class=dl-inline><dt>(Intercept)</dt><dd>39.9358610211705</dd><dt>horsepower</dt><dd>-0.157844733353654</dd></dl>\n"
            ]
          },
          "metadata": {
            "tags": []
          }
        }
      ]
    },
    {
      "cell_type": "code",
      "metadata": {
        "id": "Y9fRsv6DhiN5",
        "outputId": "24228963-8006-4c69-a71c-0f125f764ecc",
        "colab": {
          "base_uri": "https://localhost:8080/",
          "height": 50
        }
      },
      "source": [
        "set.seed (1)\n",
        "boot.fn(Auto ,sample (392 ,392 , replace =T))\n",
        "boot.fn(Auto ,sample (392 ,392 , replace =T))"
      ],
      "execution_count": null,
      "outputs": [
        {
          "output_type": "display_data",
          "data": {
            "text/plain": [
              "(Intercept)  horsepower \n",
              " 40.3404517  -0.1634868 "
            ],
            "text/latex": "\\begin{description*}\n\\item[(Intercept)] 40.3404516830189\n\\item[horsepower] -0.163486837689938\n\\end{description*}\n",
            "text/markdown": "(Intercept)\n:   40.3404516830189horsepower\n:   -0.163486837689938\n\n",
            "text/html": [
              "<style>\n",
              ".dl-inline {width: auto; margin:0; padding: 0}\n",
              ".dl-inline>dt, .dl-inline>dd {float: none; width: auto; display: inline-block}\n",
              ".dl-inline>dt::after {content: \":\\0020\"; padding-right: .5ex}\n",
              ".dl-inline>dt:not(:first-of-type) {padding-left: .5ex}\n",
              "</style><dl class=dl-inline><dt>(Intercept)</dt><dd>40.3404516830189</dd><dt>horsepower</dt><dd>-0.163486837689938</dd></dl>\n"
            ]
          },
          "metadata": {
            "tags": []
          }
        },
        {
          "output_type": "display_data",
          "data": {
            "text/plain": [
              "(Intercept)  horsepower \n",
              " 40.1186906  -0.1577063 "
            ],
            "text/latex": "\\begin{description*}\n\\item[(Intercept)] 40.1186906449022\n\\item[horsepower] -0.157706320543503\n\\end{description*}\n",
            "text/markdown": "(Intercept)\n:   40.1186906449022horsepower\n:   -0.157706320543503\n\n",
            "text/html": [
              "<style>\n",
              ".dl-inline {width: auto; margin:0; padding: 0}\n",
              ".dl-inline>dt, .dl-inline>dd {float: none; width: auto; display: inline-block}\n",
              ".dl-inline>dt::after {content: \":\\0020\"; padding-right: .5ex}\n",
              ".dl-inline>dt:not(:first-of-type) {padding-left: .5ex}\n",
              "</style><dl class=dl-inline><dt>(Intercept)</dt><dd>40.1186906449022</dd><dt>horsepower</dt><dd>-0.157706320543503</dd></dl>\n"
            ]
          },
          "metadata": {
            "tags": []
          }
        }
      ]
    },
    {
      "cell_type": "code",
      "metadata": {
        "id": "lXVELh-phrt7",
        "outputId": "4fac7b8f-07fd-41a3-d648-43459bc71b4d",
        "colab": {
          "base_uri": "https://localhost:8080/",
          "height": 226
        }
      },
      "source": [
        "boot(Auto ,boot.fn ,1000)"
      ],
      "execution_count": null,
      "outputs": [
        {
          "output_type": "display_data",
          "data": {
            "text/plain": [
              "\n",
              "ORDINARY NONPARAMETRIC BOOTSTRAP\n",
              "\n",
              "\n",
              "Call:\n",
              "boot(data = Auto, statistic = boot.fn, R = 1000)\n",
              "\n",
              "\n",
              "Bootstrap Statistics :\n",
              "      original        bias    std. error\n",
              "t1* 39.9358610  0.0544513229 0.841289790\n",
              "t2* -0.1578447 -0.0006170901 0.007343073"
            ]
          },
          "metadata": {
            "tags": []
          }
        }
      ]
    },
    {
      "cell_type": "code",
      "metadata": {
        "id": "bDFrJcrphvra",
        "outputId": "edb1ee26-999f-4890-bb19-0329a9f73d18",
        "colab": {
          "base_uri": "https://localhost:8080/",
          "height": 96
        }
      },
      "source": [
        "summary (lm(mpg~horsepower ,data=Auto))$coef"
      ],
      "execution_count": null,
      "outputs": [
        {
          "output_type": "display_data",
          "data": {
            "text/plain": [
              "            Estimate   Std. Error  t value   Pr(>|t|)     \n",
              "(Intercept) 39.9358610 0.717498656  55.65984 1.220362e-187\n",
              "horsepower  -0.1578447 0.006445501 -24.48914  7.031989e-81"
            ],
            "text/latex": "A matrix: 2 × 4 of type dbl\n\\begin{tabular}{r|llll}\n  & Estimate & Std. Error & t value & Pr(>\\textbar{}t\\textbar{})\\\\\n\\hline\n\t(Intercept) & 39.9358610 & 0.717498656 &  55.65984 & 1.220362e-187\\\\\n\thorsepower & -0.1578447 & 0.006445501 & -24.48914 &  7.031989e-81\\\\\n\\end{tabular}\n",
            "text/markdown": "\nA matrix: 2 × 4 of type dbl\n\n| <!--/--> | Estimate | Std. Error | t value | Pr(&gt;|t|) |\n|---|---|---|---|---|\n| (Intercept) | 39.9358610 | 0.717498656 |  55.65984 | 1.220362e-187 |\n| horsepower | -0.1578447 | 0.006445501 | -24.48914 |  7.031989e-81 |\n\n",
            "text/html": [
              "<table>\n",
              "<caption>A matrix: 2 × 4 of type dbl</caption>\n",
              "<thead>\n",
              "\t<tr><th></th><th scope=col>Estimate</th><th scope=col>Std. Error</th><th scope=col>t value</th><th scope=col>Pr(&gt;|t|)</th></tr>\n",
              "</thead>\n",
              "<tbody>\n",
              "\t<tr><th scope=row>(Intercept)</th><td>39.9358610</td><td>0.717498656</td><td> 55.65984</td><td>1.220362e-187</td></tr>\n",
              "\t<tr><th scope=row>horsepower</th><td>-0.1578447</td><td>0.006445501</td><td>-24.48914</td><td> 7.031989e-81</td></tr>\n",
              "</tbody>\n",
              "</table>\n"
            ]
          },
          "metadata": {
            "tags": []
          }
        }
      ]
    },
    {
      "cell_type": "code",
      "metadata": {
        "id": "Dqx3bInph00N",
        "outputId": "4c881e72-aeec-4196-d767-18f4dc6e3452",
        "colab": {
          "base_uri": "https://localhost:8080/",
          "height": 342
        }
      },
      "source": [
        "boot.fn=function (data ,index )\n",
        " coefficients(lm(mpg~horsepower +I( horsepower ^2) ,data=data , subset =index))\n",
        "set.seed (1)\n",
        "boot(Auto ,boot.fn ,1000)\n",
        "summary (lm(mpg~horsepower +I(horsepower ^2) ,data=Auto))$coef"
      ],
      "execution_count": null,
      "outputs": [
        {
          "output_type": "display_data",
          "data": {
            "text/plain": [
              "\n",
              "ORDINARY NONPARAMETRIC BOOTSTRAP\n",
              "\n",
              "\n",
              "Call:\n",
              "boot(data = Auto, statistic = boot.fn, R = 1000)\n",
              "\n",
              "\n",
              "Bootstrap Statistics :\n",
              "        original        bias     std. error\n",
              "t1* 56.900099702  3.511640e-02 2.0300222526\n",
              "t2* -0.466189630 -7.080834e-04 0.0324241984\n",
              "t3*  0.001230536  2.840324e-06 0.0001172164"
            ]
          },
          "metadata": {
            "tags": []
          }
        },
        {
          "output_type": "display_data",
          "data": {
            "text/plain": [
              "                Estimate     Std. Error   t value   Pr(>|t|)     \n",
              "(Intercept)     56.900099702 1.8004268063  31.60367 1.740911e-109\n",
              "horsepower      -0.466189630 0.0311246171 -14.97816  2.289429e-40\n",
              "I(horsepower^2)  0.001230536 0.0001220759  10.08009  2.196340e-21"
            ],
            "text/latex": "A matrix: 3 × 4 of type dbl\n\\begin{tabular}{r|llll}\n  & Estimate & Std. Error & t value & Pr(>\\textbar{}t\\textbar{})\\\\\n\\hline\n\t(Intercept) & 56.900099702 & 1.8004268063 &  31.60367 & 1.740911e-109\\\\\n\thorsepower & -0.466189630 & 0.0311246171 & -14.97816 &  2.289429e-40\\\\\n\tI(horsepower\\textasciicircum{}2) &  0.001230536 & 0.0001220759 &  10.08009 &  2.196340e-21\\\\\n\\end{tabular}\n",
            "text/markdown": "\nA matrix: 3 × 4 of type dbl\n\n| <!--/--> | Estimate | Std. Error | t value | Pr(&gt;|t|) |\n|---|---|---|---|---|\n| (Intercept) | 56.900099702 | 1.8004268063 |  31.60367 | 1.740911e-109 |\n| horsepower | -0.466189630 | 0.0311246171 | -14.97816 |  2.289429e-40 |\n| I(horsepower^2) |  0.001230536 | 0.0001220759 |  10.08009 |  2.196340e-21 |\n\n",
            "text/html": [
              "<table>\n",
              "<caption>A matrix: 3 × 4 of type dbl</caption>\n",
              "<thead>\n",
              "\t<tr><th></th><th scope=col>Estimate</th><th scope=col>Std. Error</th><th scope=col>t value</th><th scope=col>Pr(&gt;|t|)</th></tr>\n",
              "</thead>\n",
              "<tbody>\n",
              "\t<tr><th scope=row>(Intercept)</th><td>56.900099702</td><td>1.8004268063</td><td> 31.60367</td><td>1.740911e-109</td></tr>\n",
              "\t<tr><th scope=row>horsepower</th><td>-0.466189630</td><td>0.0311246171</td><td>-14.97816</td><td> 2.289429e-40</td></tr>\n",
              "\t<tr><th scope=row>I(horsepower^2)</th><td> 0.001230536</td><td>0.0001220759</td><td> 10.08009</td><td> 2.196340e-21</td></tr>\n",
              "</tbody>\n",
              "</table>\n"
            ]
          },
          "metadata": {
            "tags": []
          }
        }
      ]
    }
  ]
}