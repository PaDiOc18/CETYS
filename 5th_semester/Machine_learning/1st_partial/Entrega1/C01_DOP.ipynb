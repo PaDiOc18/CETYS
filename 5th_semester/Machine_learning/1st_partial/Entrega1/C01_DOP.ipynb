{
 "cells": [
  {
   "cell_type": "code",
   "execution_count": 1,
   "metadata": {
    "colab": {},
    "colab_type": "code",
    "id": "H0XOonwGxecA"
   },
   "outputs": [],
   "source": [
    "# Importing Dependencies\n",
    "import matplotlib.pyplot as plt\n",
    "import numpy as np\n",
    "import math"
   ]
  },
  {
   "cell_type": "code",
   "execution_count": 2,
   "metadata": {
    "colab": {
     "base_uri": "https://localhost:8080/",
     "height": 35
    },
    "colab_type": "code",
    "id": "8kVWd5Pcm_VA",
    "outputId": "e9f660b2-8957-474f-eb8c-0a55900581b9"
   },
   "outputs": [
    {
     "name": "stdout",
     "output_type": "stream",
     "text": [
      "Hello, World!\n"
     ]
    }
   ],
   "source": [
    "# 1.1\n",
    "print('Hello, World!')"
   ]
  },
  {
   "cell_type": "code",
   "execution_count": 3,
   "metadata": {
    "colab": {
     "base_uri": "https://localhost:8080/",
     "height": 35
    },
    "colab_type": "code",
    "id": "hKhgNElxpfSF",
    "outputId": "9b0991c9-21bd-494a-cb2f-de61287a5fb3"
   },
   "outputs": [
    {
     "name": "stdout",
     "output_type": "stream",
     "text": [
      "-1\n"
     ]
    }
   ],
   "source": [
    "#1.2\n",
    "x = 1\n",
    "def expresion12(x):\n",
    "    y = (3*x**2) + (2*x) - 6\n",
    "    return y\n",
    "y = expresion12(x)\n",
    "print(str(expresion12(x)));\n"
   ]
  },
  {
   "cell_type": "code",
   "execution_count": 4,
   "metadata": {
    "colab": {
     "base_uri": "https://localhost:8080/",
     "height": 283
    },
    "colab_type": "code",
    "id": "19Itd5dCplh5",
    "outputId": "610ca288-9c5a-4cc9-afe3-87a02e42d775"
   },
   "outputs": [
    {
     "name": "stdout",
     "output_type": "stream",
     "text": [
      "[ 2 -5 -6 -1 10]\n"
     ]
    },
    {
     "data": {
      "image/png": "[encoded data removed]",
      "text/plain": [
       "<Figure size 432x288 with 1 Axes>"
      ]
     },
     "metadata": {
      "needs_background": "light"
     },
     "output_type": "display_data"
    }
   ],
   "source": [
    "#1.3\n",
    "x = np.array([-2,-1,0,1,2])\n",
    "y = expresion12(x)\n",
    "print(y)\n",
    "plt.plot(x,y, 'ro') \n",
    "plt.show()"
   ]
  },
  {
   "cell_type": "code",
   "execution_count": 5,
   "metadata": {
    "colab": {
     "base_uri": "https://localhost:8080/",
     "height": 335
    },
    "colab_type": "code",
    "id": "1uI-1pFwtiCd",
    "outputId": "3ad3ee12-7eef-4c39-bc16-743350936edf"
   },
   "outputs": [
    {
     "name": "stdout",
     "output_type": "stream",
     "text": [
      "[ 2.    1.03  0.12 -0.73 -1.52 -2.25 -2.92 -3.53 -4.08 -4.57 -5.   -5.37\n",
      " -5.68 -5.93 -6.12 -6.25 -6.32 -6.33 -6.28 -6.17 -6.   -5.77 -5.48 -5.13\n",
      " -4.72 -4.25 -3.72 -3.13 -2.48 -1.77 -1.   -0.17  0.72  1.67  2.68  3.75\n",
      "  4.88  6.07  7.32  8.63 10.  ]\n"
     ]
    },
    {
     "data": {
      "image/png": "[encoded data removed]",
      "text/plain": [
       "<Figure size 432x288 with 1 Axes>"
      ]
     },
     "metadata": {
      "needs_background": "light"
     },
     "output_type": "display_data"
    }
   ],
   "source": [
    "#1.4\n",
    "x = np.arange(-2,2.1,0.1)\n",
    "y = expresion12(x)\n",
    "print(y)\n",
    "plt.plot(x,y, 'ro') \n",
    "plt.show()"
   ]
  },
  {
   "cell_type": "code",
   "execution_count": 6,
   "metadata": {
    "colab": {
     "base_uri": "https://localhost:8080/",
     "height": 337
    },
    "colab_type": "code",
    "id": "xDlsg3DS0Q4n",
    "outputId": "0bee699a-c1b0-4edd-aa95-3f9c7b9361e6"
   },
   "outputs": [
    {
     "name": "stdout",
     "output_type": "stream",
     "text": [
      "[-0.9092974268256817, -0.9463000876874145, -0.9738476308781953, -0.9916648104524687, -0.9995736030415052, -0.9974949866040544, -0.9854497299884601, -0.9635581854171928, -0.9320390859672261, -0.891207360061435, -0.8414709848078961, -0.7833269096274827, -0.717356090899522, -0.6442176872376901, -0.5646424733950344, -0.47942553860420184, -0.3894183423086492, -0.29552020666133816, -0.19866933079505963, -0.09983341664682648, 1.7763568394002505e-15, 0.09983341664683001, 0.19866933079506313, 0.29552020666134154, 0.38941834230865247, 0.47942553860420495, 0.5646424733950373, 0.6442176872376929, 0.7173560908995245, 0.783326909627485, 0.841470984807898, 0.8912073600614366, 0.9320390859672274, 0.9635581854171937, 0.9854497299884607, 0.9974949866040547, 0.9995736030415051, 0.9916648104524682, 0.9738476308781944, 0.9463000876874134, 0.9092974268256803]\n",
      "[-0.9999999999999919, -0.6989700043360145, -0.5228787452803346, -0.3979400086720353, -0.30102999566397926, -0.2218487496163547, -0.1549019599857417, -0.09691001300805506, -0.04575749056067388, 1.157192959863943e-15, 0.041392685158226125, 0.07918124604762586, 0.11394335230683775, 0.14612803567823895, 0.17609125905568215, 0.20411998265592565, 0.23044892137827477, 0.2552725051033069, 0.27875360095282975, 0.301029995663982]\n",
      "[0.1353352832366127, 0.1495686192226351, 0.1652988882215866, 0.18268352405273472, 0.2018965179946555, 0.22313016014842996, 0.24659696394160663, 0.2725317930340128, 0.3011942119122023, 0.33287108369807983, 0.36787944117144267, 0.40656965974059955, 0.44932896411722206, 0.4965853037914101, 0.5488116360940272, 0.6065306597126342, 0.6703200460356402, 0.740818220681719, 0.8187307530779832, 0.9048374180359611, 1.0000000000000018, 1.1051709180756497, 1.2214027581601723, 1.3498588075760058, 1.4918246976412735, 1.6487212707001317, 1.822118800390513, 2.013752707470481, 2.225540928492473, 2.459603111156956, 2.718281828459052, 3.0041660239464414, 3.3201169227365566, 3.6692966676192547, 4.055199966844686, 4.481689070338079, 4.95303242439513, 5.473947391727218, 6.049647464412966, 6.685894442279292, 7.389056098930675]\n"
     ]
    },
    {
     "data": {
      "image/png": "[encoded data removed]",
      "text/plain": [
       "<Figure size 432x288 with 1 Axes>"
      ]
     },
     "metadata": {
      "needs_background": "light"
     },
     "output_type": "display_data"
    }
   ],
   "source": [
    "#1.5\n",
    "x = np.arange(-2,2.1,0.1)\n",
    "\n",
    "function_1 = lambda vector: [math.sin(x) for x in vector]\n",
    "function_2 = lambda vector: [math.log10(x) for x in vector if x > 0.1] # <--- Hay un \"error\" de Dominio. NO se acepta VALORES NEGATIVOS\n",
    "function_3 = lambda vector: [math.e**x for x in vector] \n",
    "\n",
    "y1 = function_1(x)\n",
    "y2 = function_2(x)\n",
    "y3 = function_3(x)\n",
    "\n",
    "print(y1)\n",
    "print(y2)\n",
    "print(y3)\n",
    "\n",
    "plt.plot(x,y1, 'ro') \n",
    "plt.plot(x[20:-1],y2,'go') # <---- Correccion debido a log. solamente tomo los 20 ultimos debido a que x.shape == y2.shape\n",
    "plt.plot(x,y3, 'bo') \n",
    "\n",
    "plt.show()"
   ]
  },
  {
   "cell_type": "code",
   "execution_count": 7,
   "metadata": {
    "colab": {
     "base_uri": "https://localhost:8080/",
     "height": 139
    },
    "colab_type": "code",
    "id": "AAua5B9e4F6K",
    "outputId": "07fbed0c-0b7e-4bcf-c355-a871c34f5292"
   },
   "outputs": [
    {
     "name": "stdout",
     "output_type": "stream",
     "text": [
      "\n",
      "  Resultado v1*v2: [ 2  8 18 32]\n",
      "  Resultado v1/v2: [0.5 0.5 0.5 0.5]\n",
      "  Resultado v1^2:  [ 1  4  9 16]\n",
      "  Resultado v1+v2: [ 3  6  9 12]\n",
      "  Resultado v1-v2: [-1 -2 -3 -4]\n",
      "  \n"
     ]
    }
   ],
   "source": [
    "#1.6\n",
    "v1 = np.array([1,2,3,4])\n",
    "v2 = np.array([2,4,6,8])\n",
    "\n",
    "r1 = v1*v2\n",
    "r2 = v1/v2\n",
    "r3 = v1**2\n",
    "r4 = v1 + v2\n",
    "r5 = v1-v2\n",
    "\n",
    "string_result = '''\n",
    "  Resultado v1*v2: {}\n",
    "  Resultado v1/v2: {}\n",
    "  Resultado v1^2:  {}\n",
    "  Resultado v1+v2: {}\n",
    "  Resultado v1-v2: {}\n",
    "  '''.format(r1,r2,r3,r4,r5)\n",
    "print(string_result)"
   ]
  },
  {
   "cell_type": "code",
   "execution_count": 8,
   "metadata": {
    "colab": {
     "base_uri": "https://localhost:8080/",
     "height": 70
    },
    "colab_type": "code",
    "id": "jUJgc5Id56rX",
    "outputId": "b550d7ef-db7a-4bf4-f0fc-8e9eb7886bf2"
   },
   "outputs": [
    {
     "name": "stdout",
     "output_type": "stream",
     "text": [
      "[[ 0  7]\n",
      " [ 7 -1]\n",
      " [-5 -3]]\n"
     ]
    }
   ],
   "source": [
    "#1.7\n",
    "M = np.array([[4,2,0,-1],\n",
    "              [3,1,-4,0],\n",
    "              [-1,0,3,6]])\n",
    "\n",
    "N = np.array([[-1,0],\n",
    "              [2,3],\n",
    "              [-2,1],\n",
    "              [0,-1]])\n",
    "\n",
    "L = M.dot(N)\n",
    "print(L)"
   ]
  },
  {
   "cell_type": "code",
   "execution_count": 9,
   "metadata": {
    "colab": {
     "base_uri": "https://localhost:8080/",
     "height": 226
    },
    "colab_type": "code",
    "id": "e84MV-zo7Yp2",
    "outputId": "e0e558db-b864-4eda-924a-8988a8f19d32"
   },
   "outputs": [
    {
     "name": "stdout",
     "output_type": "stream",
     "text": [
      "**********      ***         *          *\n",
      "*        *   *       *     ***        * *\n",
      "*        *  *         *   *****      *   *\n",
      "*        *  *         *  *******    *     *\n",
      "*        *  *         *     *      *       *\n",
      "*        *  *         *     *       *     *\n",
      "*        *   *       *      *        *   *\n",
      "*        *      ***         *         * *\n",
      "*        *                  *          *\n",
      "**********                  *     \n",
      "                            *   \n",
      "                                \n"
     ]
    }
   ],
   "source": [
    "#1.8\n",
    "def caja_str(edge_size):\n",
    "  string = \"*\"*edge_size\n",
    "  for row in range(edge_size-2): # <-- -2 porque fuera del 'for row' se hace la primera y ultima row.\n",
    "    string += \"\\n*\" + \" \" * (edge_size-2) + \"*\" \n",
    "  string += \"\\n\"+\"*\"*edge_size\n",
    "  return string\n",
    "\n",
    "def circle_str(width,height):\n",
    "  row = str()\n",
    "  string_result = str()\n",
    "  for i in range(height):\n",
    "    if(i == 0 or i == height - 1):\n",
    "      row = (' ' * 4) + ((width - 3) * '*')\n",
    "    elif(i == 1 or i == (height - 2)):\n",
    "      row = ' '  + ( '*' ) + (' ' * (width + 1)) + '*'\n",
    "    else:\n",
    "      row = '*' + ((width + 3) * ' ') + '*'\n",
    "    string_result += row + \"\\n\"\n",
    "  return string_result\n",
    "\n",
    "def arrow_str(arrow_height):\n",
    "  string_result = str()\n",
    "  width = arrow_height-1 \n",
    "  for row in range(arrow_height//2):\n",
    "    string_result += \" \"*(width//2 - row) + \"*\"*(2*row) + \"*\\n\"\n",
    "  arrow_stick = \" \"*(width//2) + \"*\\n\"\n",
    "  string_result += arrow_stick * (arrow_height-1)\n",
    "  return string_result\n",
    "\n",
    "def diamond_str(edge_size):\n",
    "  string_result = str()\n",
    "  row = str()\n",
    "  auxcentro = edge_size - 1\n",
    "  espaciobetween = 1\n",
    "  for i in range(1,(edge_size* 2)):\n",
    "    if(i == 1 or i == (edge_size* 2 - 1)):\n",
    "      row = (edge_size * ' ') + '*'\n",
    "    else:\n",
    "      if(i <= edge_size):\n",
    "        row = ((auxcentro) * ' ') + '*' + ((espaciobetween) * ' ') + '*' \n",
    "        auxcentro-=1\n",
    "        espaciobetween+=2\n",
    "      else:\n",
    "        row = ((auxcentro + 2) * ' ') + '*' + ((espaciobetween - 4) * ' ') + '*' \n",
    "        auxcentro+=1\n",
    "        espaciobetween-=2\n",
    "    string_result += row + '\\n'\n",
    "  return string_result\n",
    "\n",
    "def concatenate_str(left_str,right_str,space=2):\n",
    "  splitted_left_str = left_str.split(\"\\n\")\n",
    "  splitted_right_str = right_str.split(\"\\n\")\n",
    "\n",
    "  height_left = len(splitted_left_str)\n",
    "  height_right = len(splitted_right_str)\n",
    "\n",
    "  max_height = max([height_left, height_right])\n",
    "  x = max([len(row) for row in splitted_left_str])\n",
    "\n",
    "  string_result = str()\n",
    "  for index in range(max_height):\n",
    "\n",
    "    if index < height_left:\n",
    "      x_i = x - len(splitted_left_str[index])\n",
    "      string_result += splitted_left_str[index] + \" \"*x_i \n",
    "\n",
    "    if index < height_right:\n",
    "      string_result+= \" \"*(x * (index >= height_left))  + \" \"*space + splitted_right_str[index]\n",
    "    string_result += \"\\n\" * (index != max_height-1) \n",
    "    \n",
    "  return string_result\n",
    "  \n",
    "  \n",
    "caja = caja_str(edge_size=10)\n",
    "circle = circle_str(width=6,height=8)\n",
    "arrow = arrow_str(arrow_height=8)\n",
    "diamond = diamond_str(edge_size=5)\n",
    "\n",
    "string_result = concatenate_str(caja,circle)\n",
    "string_result = concatenate_str(string_result,arrow)\n",
    "string_result = concatenate_str(string_result,diamond)\n",
    "\n",
    "print(string_result)\n",
    "\n",
    "\n"
   ]
  },
  {
   "cell_type": "code",
   "execution_count": 10,
   "metadata": {
    "colab": {
     "base_uri": "https://localhost:8080/",
     "height": 298
    },
    "colab_type": "code",
    "id": "5Yi0Wi1j7jm0",
    "outputId": "20a2ba9b-2385-47b0-b9d4-46f03ac4e3f6"
   },
   "outputs": [
    {
     "name": "stdout",
     "output_type": "stream",
     "text": [
      "  *      ******  *        ********  *          **********  *            ************  *              **************  *\n",
      "  **     *****   **       *******   **         *********   **           ***********   **             *************   **\n",
      "  ***    ****    ***      ******    ***        ********    ***          **********    ***            ************    ***\n",
      "  ****   ***     ****     *****     ****       *******     ****         *********     ****           ***********     ****\n",
      "  *****  **      *****    ****      *****      ******      *****        ********      *****          **********      *****\n",
      "         *       ******   ***       ******     *****       ******       *******       ******         *********       ******\n",
      "                 *******  **        *******    ****        *******      ******        *******        ********        *******\n",
      "                          *         ********   ***         ********     *****         ********       *******         ********\n",
      "                                    *********  **          *********    ****          *********      ******          *********\n",
      "                                               *           **********   ***           **********     *****           **********\n",
      "                                                           ***********  **            ***********    ****            ***********\n",
      "                                                                        *             ************   ***             ************\n",
      "                                                                                      *************  **              *************\n",
      "                                                                                                     *               **************\n",
      "                                                                                                                     ***************\n"
     ]
    }
   ],
   "source": [
    "#1.9.1\n",
    "def half_pyramid_str(height,inverted=False):\n",
    "  string_result = str()\n",
    "  for row in range(height):\n",
    "    string_result += \"*\" * (inverted == True) * (height-row)\n",
    "    string_result += \"*\" * (inverted == False) * (row+1)\n",
    "    string_result += \"\\n\" * (row != height-1)\n",
    "  return string_result\n",
    "\n",
    "string_result = str()\n",
    "pyramid = str()\n",
    "for i in range(5,16):\n",
    "  pyramid = half_pyramid_str(i,inverted=i%2==0)\n",
    "  string_result = concatenate_str(string_result,pyramid)\n",
    "\n",
    "\n",
    "print(string_result)\n",
    "\n"
   ]
  },
  {
   "cell_type": "code",
   "execution_count": 11,
   "metadata": {
    "colab": {
     "base_uri": "https://localhost:8080/",
     "height": 783
    },
    "colab_type": "code",
    "id": "HTTeuDlqJlxT",
    "outputId": "8b3ea96b-5fde-4b5e-be73-c7bc5083719d"
   },
   "outputs": [
    {
     "name": "stdout",
     "output_type": "stream",
     "text": [
      "*\n",
      "**\n",
      "***\n",
      "****\n",
      "*****\n",
      "******\n",
      "*******\n",
      "********\n",
      "*********\n",
      "**********\n",
      "\n",
      "**********\n",
      "*********\n",
      "********\n",
      "*******\n",
      "******\n",
      "*****\n",
      "****\n",
      "***\n",
      "**\n",
      "*\n",
      "\n",
      "*\n",
      "**\n",
      "***\n",
      "****\n",
      "*****\n",
      "******\n",
      "*******\n",
      "********\n",
      "*********\n",
      "**********\n",
      "\n",
      "**********\n",
      "*********\n",
      "********\n",
      "*******\n",
      "******\n",
      "*****\n",
      "****\n",
      "***\n",
      "**\n",
      "*\n",
      "\n"
     ]
    }
   ],
   "source": [
    "#1.9.2\n",
    "lado = 10\n",
    "times = 4\n",
    "invertido = False\n",
    "\n",
    "for i in range(1,times+1):\n",
    "  if(invertido == False):\n",
    "    for x in range(1,lado+1):\n",
    "      print(\"*\"*x)\n",
    "  else:\n",
    "    for x in range(lado,0,-1):\n",
    "      print(\"*\"*x) \n",
    "  print()\n",
    "  if (invertido == False): invertido = True\n",
    "  else: invertido = False\n"
   ]
  },
  {
   "cell_type": "code",
   "execution_count": 12,
   "metadata": {
    "colab": {
     "base_uri": "https://localhost:8080/",
     "height": 1000
    },
    "colab_type": "code",
    "id": "EncMbrEk7kzY",
    "outputId": "892a94a4-eddc-4e71-bb2f-338ba051d3d8"
   },
   "outputs": [
    {
     "name": "stdout",
     "output_type": "stream",
     "text": [
      "Ingrese la altura: \n",
      "10\n",
      "         *\n",
      "        ***\n",
      "       *****\n",
      "      *******\n",
      "     *********\n",
      "    ***********\n",
      "   *************\n",
      "  ***************\n",
      " *****************\n",
      "*******************\n",
      "\n"
     ]
    }
   ],
   "source": [
    "#1.10\n",
    "def pyramid_str(height): \n",
    "  string_result = str()\n",
    "  width = height*2-1 \n",
    "  for row in range(height):\n",
    "    string_result += \" \"*(width//2 - row) + \"*\"*(2*row) + \"*\\n\"  # <-- width//2 me indica el espacio en blanco, el cual se va reduciendo conforme en 1 en base a la altura crece.\n",
    "  return string_result\n",
    "print(\"Ingrese la altura: \")\n",
    "altura = int(input())\n",
    "string_result = pyramid_str(altura)\n",
    "print(string_result)\n",
    "\n"
   ]
  }
 ],
 "metadata": {
  "colab": {
   "collapsed_sections": [],
   "name": " C01_WWWW.ipynb",
   "provenance": []
  },
  "kernelspec": {
   "display_name": "Python 3",
   "language": "python",
   "name": "python3"
  },
  "language_info": {
   "codemirror_mode": {
    "name": "ipython",
    "version": 3
   },
   "file_extension": ".py",
   "mimetype": "text/x-python",
   "name": "python",
   "nbconvert_exporter": "python",
   "pygments_lexer": "ipython3",
   "version": "3.8.3"
  }
 },
 "nbformat": 4,
 "nbformat_minor": 1
}
